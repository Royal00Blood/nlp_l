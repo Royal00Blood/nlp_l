{
 "cells": [
  {
   "cell_type": "markdown",
   "metadata": {},
   "source": [
    "Реализация моделирования языка N-Gram в NLTK (https://www.geeksforgeeks.org/n-gram-language-modelling-with-nltk/)"
   ]
  },
  {
   "cell_type": "code",
   "execution_count": null,
   "metadata": {
    "vscode": {
     "languageId": "plaintext"
    }
   },
   "outputs": [],
   "source": [
    "# Import necessary libraries\n",
    "import nltk\n",
    "from nltk import bigrams, trigrams\n",
    "from nltk.corpus import reuters\n",
    "from collections import defaultdict\n",
    "\n",
    "# Download necessary NLTK resources\n",
    "nltk.download('reuters')\n",
    "nltk.download('punkt')\n",
    "\n",
    "# Tokenize the text\n",
    "words = nltk.word_tokenize(' '.join(reuters.words()))\n",
    "\n",
    "# Create trigrams\n",
    "tri_grams = list(trigrams(words))\n",
    "\n",
    "# Build a trigram model\n",
    "model = defaultdict(lambda: defaultdict(lambda: 0))\n",
    "\n",
    "# Count frequency of co-occurrence\n",
    "for w1, w2, w3 in tri_grams:\n",
    "    model[(w1, w2)][w3] += 1\n",
    "\n",
    "# Transform the counts into probabilities\n",
    "for w1_w2 in model:\n",
    "    total_count = float(sum(model[w1_w2].values()))\n",
    "    for w3 in model[w1_w2]:\n",
    "        model[w1_w2][w3] /= total_count\n",
    "\n",
    "# Function to predict the next word\n",
    "def predict_next_word(w1, w2):\n",
    "    \"\"\"\n",
    "    Predicts the next word based on the previous two words using the trained trigram model.\n",
    "    Args:\n",
    "    w1 (str): The first word.\n",
    "    w2 (str): The second word.\n",
    "\n",
    "    Returns:\n",
    "    str: The predicted next word.\n",
    "    \"\"\"\n",
    "    next_word = model[w1, w2]\n",
    "    if next_word:\n",
    "        predicted_word = max(next_word, key=next_word.get)  # Choose the most likely next word\n",
    "        return predicted_word\n",
    "    else:\n",
    "        return \"No prediction available\"\n",
    "\n",
    "# Example usage\n",
    "print(\"Next Word:\", predict_next_word('the', 'stock'))\n"
   ]
  }
 ],
 "metadata": {
  "language_info": {
   "name": "python"
  }
 },
 "nbformat": 4,
 "nbformat_minor": 2
}
