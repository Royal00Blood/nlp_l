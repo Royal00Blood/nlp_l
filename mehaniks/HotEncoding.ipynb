{
 "cells": [
  {
   "cell_type": "markdown",
   "metadata": {},
   "source": [
    "One Hot Encoding — это метод преобразования категориальных переменных в двоичный формат. Он создает новые столбцы для каждой категории, где 1 означает, что категория присутствует, а 0 — что ее нет. Основная цель One Hot Encoding — гарантировать, что категориальные данные могут эффективно использоваться в моделях машинного обучения."
   ]
  },
  {
   "cell_type": "markdown",
   "metadata": {},
   "source": [
    "__Важность горячего кодирования__\n",
    "Мы используем одну горячую кодировку, потому что:\n",
    "\n",
    "- Устранение ординальности : многие категориальные переменные не имеют внутреннего порядка (например, «Мужской» и «Женский»). Если бы мы присвоили числовые значения (например, Мужской = 0, Женский = 1), модель могла бы ошибочно интерпретировать это как ранжирование и привести к предвзятым прогнозам. One Hot Encoding устраняет этот риск, рассматривая каждую категорию независимо.\n",
    "- Улучшение производительности модели : путем предоставления более подробного представления категориальных переменных. One Hot Encoding может помочь улучшить производительность моделей машинного обучения. Он позволяет моделям фиксировать сложные взаимосвязи в данных, которые могли бы быть упущены, если бы категориальные переменные рассматривались как отдельные сущности.\n",
    "- Совместимость с алгоритмами : многие алгоритмы машинного обучения, в частности, основанные на линейной регрессии и градиентном спуске, которые требуют числового ввода. Это гарантирует, что категориальные переменные преобразуются в подходящий формат."
   ]
  },
  {
   "cell_type": "markdown",
   "metadata": {},
   "source": [
    "__Реализация прямого кодирования с использованием Python__"
   ]
  },
  {
   "cell_type": "code",
   "execution_count": null,
   "metadata": {
    "vscode": {
     "languageId": "plaintext"
    }
   },
   "outputs": [],
   "source": [
    "import pandas as pd\n",
    "from sklearn.preprocessing import OneHotEncoder\n",
    "\n",
    "data = {\n",
    "    'Employee id': [10, 20, 15, 25, 30],\n",
    "    'Gender': ['M', 'F', 'F', 'M', 'F'],\n",
    "    'Remarks': ['Good', 'Nice', 'Good', 'Great', 'Nice']\n",
    "}\n",
    "\n",
    "df = pd.DataFrame(data)\n",
    "print(f\"Original Employee Data:\\n{df}\\n\")\n",
    "# Use pd.get_dummies() to one-hot encode the categorical columns\n",
    "df_pandas_encoded = pd.get_dummies(df, columns=['Gender', 'Remarks'], drop_first=True)\n",
    "print(f\"One-Hot Encoded Data using Pandas:\\n{df_pandas_encoded}\\n\")\n",
    "\n",
    "encoder = OneHotEncoder(sparse_output=False)\n",
    "\n",
    "one_hot_encoded = encoder.fit_transform(df[categorical_columns])\n",
    "\n",
    "one_hot_df = pd.DataFrame(one_hot_encoded, \n",
    "                          columns=encoder.get_feature_names_out(categorical_columns))\n",
    "\n",
    "df_sklearn_encoded = pd.concat([df.drop(categorical_columns, axis=1), one_hot_df], axis=1)\n",
    "\n",
    "print(f\"One-Hot Encoded Data using Scikit-Learn:\\n{df_sklearn_encoded}\\n\")\n"
   ]
  },
  {
   "cell_type": "markdown",
   "metadata": {},
   "source": [
    "кодирование с использованием библиотеки Scikit Learn"
   ]
  },
  {
   "cell_type": "code",
   "execution_count": null,
   "metadata": {
    "vscode": {
     "languageId": "plaintext"
    }
   },
   "outputs": [],
   "source": [
    "import pandas as pd\n",
    "from sklearn.preprocessing import OneHotEncoder\n",
    "\n",
    "data = {'Employee id': [10, 20, 15, 25, 30],\n",
    "        'Gender': ['M', 'F', 'F', 'M', 'F'],\n",
    "        'Remarks': ['Good', 'Nice', 'Good', 'Great', 'Nice'],\n",
    "        }\n",
    "df = pd.DataFrame(data)\n",
    "print(f\"Employee data : \\n{df}\")\n",
    "\n",
    "categorical_columns = df.select_dtypes(include=['object']).columns.tolist()\n",
    "encoder = OneHotEncoder(sparse_output=False)\n",
    "\n",
    "one_hot_encoded = encoder.fit_transform(df[categorical_columns])\n",
    "\n",
    "one_hot_df = pd.DataFrame(one_hot_encoded, columns=encoder.get_feature_names_out(categorical_columns))\n",
    "\n",
    "df_encoded = pd.concat([df, one_hot_df], axis=1)\n",
    "\n",
    "df_encoded = df_encoded.drop(categorical_columns, axis=1)\n",
    "print(f\"Encoded Employee data : \\n{df_encoded}\")"
   ]
  },
  {
   "cell_type": "markdown",
   "metadata": {},
   "source": [
    "__Лучшие практики для One Hot Encoding__\n",
    "\n",
    "Чтобы максимально эффективно использовать One Hot Encoding, необходимо учитывать следующие рекомендации:\n",
    "\n",
    "- Ограничьте количество категорий : если у вас есть категориальные переменные с высокой кардинальностью, рассмотрите возможность ограничения количества категорий с помощью группировки или проектирования признаков.\n",
    "- Использовать выбор признаков : Реализовать методы выбора признаков для определения и сохранения только наиболее релевантных признаков после One Hot Encoding. Это может помочь снизить размерность и улучшить производительность модели.\n",
    "- Мониторинг производительности модели : регулярно оценивайте производительность вашей модели после применения One Hot Encoding. Если вы заметили признаки переобучения или другие проблемы, рассмотрите альтернативные методы кодирования.\n",
    "- Поймите свои данные : прежде чем применять One Hot Encoding, потратьте время на то, чтобы понять природу ваших категориальных переменных. Определите, имеют ли они естественный порядок и подходит ли One Hot Encoding."
   ]
  },
  {
   "cell_type": "markdown",
   "metadata": {},
   "source": [
    "__Альтернативы One Hot Encoding__\n",
    "\n",
    "Хотя One Hot Encoding является популярным выбором для обработки категориальных данных, существует несколько альтернатив, которые могут быть более подходящими в зависимости от контекста:\n",
    "\n",
    "1. Кодирование меток : в случаях, когда категориальные переменные имеют естественный порядок (например, «Низкий», «Средний», «Высокий») кодирование меток может быть лучшим вариантом. Этот метод назначает уникальное целое число каждой категории, не внося тех же рисков неправильной интерпретации иерархии, что и с номинальными данными.\n",
    "2. Двоичное кодирование : этот метод объединяет преимущества One Hot Encoding и кодирования меток. Он преобразует категории в двоичные числа, а затем создает двоичные столбцы. Этот метод может уменьшить размерность, сохраняя информацию.(https://www.geeksforgeeks.org/encoding-categorical-data-in-sklearn/)\n",
    "3. Целевое кодирование : в целевом кодировании мы заменяем каждую категорию средним значением целевой переменной для этой категории. Этот метод может быть особенно полезен для категориальных переменных с большим количеством уникальных значений, но он также несет риск утечки, если не обрабатывается должным образом.(https://www.geeksforgeeks.org/target-encoding-using-nested-cv-in-sklearn-pipeline/)"
   ]
  },
  {
   "cell_type": "markdown",
   "metadata": {},
   "source": [
    "Как выполнить кодирование меток в Python"
   ]
  },
  {
   "cell_type": "markdown",
   "metadata": {},
   "source": [
    "Предположим, у нас есть столбец Height в некотором наборе данных, который содержит элементы Tall, Medium и short. Чтобы преобразовать этот категориальный столбец в числовой столбец, мы применим кодировку меток к этому столбцу. После применения кодировки меток столбец Height преобразуется в числовой столбец с элементами 0, 1 и 2, где 0 — метка для tall , 1 — метка для medium , а 2 — метка для short height."
   ]
  },
  {
   "cell_type": "code",
   "execution_count": null,
   "metadata": {
    "vscode": {
     "languageId": "plaintext"
    }
   },
   "outputs": [],
   "source": [
    "import numpy as np\n",
    "import pandas as pd\n",
    "\n",
    "df = pd.read_csv('../../data/Iris.csv')\n",
    "df['species'].unique()"
   ]
  },
  {
   "cell_type": "markdown",
   "metadata": {},
   "source": [
    "array(['Ирис щетинистый', 'Ирис разноцветный', 'Ирис виргинский'], dtype=object)"
   ]
  },
  {
   "cell_type": "code",
   "execution_count": null,
   "metadata": {
    "vscode": {
     "languageId": "plaintext"
    }
   },
   "outputs": [],
   "source": [
    "from sklearn import preprocessing\n",
    "\n",
    "label_encoder = preprocessing.LabelEncoder()\n",
    "df['species']= label_encoder.fit_transform(df['species'])\n",
    "\n",
    "df['species'].unique()\n"
   ]
  },
  {
   "cell_type": "markdown",
   "metadata": {},
   "source": [
    "array([0, 1, 2], dtype=int64)"
   ]
  }
 ],
 "metadata": {
  "language_info": {
   "name": "python"
  }
 },
 "nbformat": 4,
 "nbformat_minor": 2
}
