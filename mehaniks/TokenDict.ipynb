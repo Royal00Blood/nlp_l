{
 "cells": [
  {
   "cell_type": "markdown",
   "metadata": {},
   "source": [
    "Понимание Токенизации словарного Запаса"
   ]
  },
  {
   "cell_type": "markdown",
   "metadata": {},
   "source": [
    "Токенизация WordPiece — это промежуточный вариант между токенизацией на уровне слов и на уровне символов. Она разбивает слова на часто встречающиеся подслова или «кусочки». Этот метод позволяет более эффективно представлять словарный запас языка, особенно с точки зрения часто встречающихся частей слов.\n",
    "\n",
    "Например, слово «непреодолимый» можно разделить на «не», «преодолеть» и «возможный». Такое разделение не только отражает значение всего слова, но и сохраняет семантическое значение частей слова."
   ]
  },
  {
   "cell_type": "markdown",
   "metadata": {},
   "source": [
    "Преимущества токенизации WordPiece"
   ]
  },
  {
   "cell_type": "markdown",
   "metadata": {},
   "source": [
    "- Уменьшение размера словаря: разбивая слова на части, WordPiece значительно уменьшает размер словаря модели по сравнению с токенизацией на уровне слов. Это уменьшение имеет решающее значение в приложениях НЛП, где размерность входных данных напрямую влияет на эффективность вычислений и сложность модели.\n",
    "- Обработка редких слов: редкие слова часто становятся камнем преткновения для моделей НЛП, приводя к проблемам с выходом за пределы словаря (OOV). WordPiece решает эту проблему, разбивая редкие слова на части, которые, скорее всего, есть в словаре, даже если полного слова там нет. Такой подход позволяет модели более корректно обрабатывать неизвестные слова во время обучения и вывода.\n",
    "- Улучшенная генерализация модели: поскольку токенизация WordPiece позволяет разбивать слова на известные части, она позволяет моделям лучше обобщать новые тексты, содержащие редкие или незнакомые слова. Эта возможность особенно ценна в таких задачах, как машинный перевод и распознавание речи, где часто встречаются редкие слова.\n",
    "- Эффективность при обучении и выводе данных: модели, обученные с помощью токенизации WordPiece, могут быстрее сходиться, поскольку они работают со сжатым словарным запасом. Такая эффективность приводит к более быстрому обучению и более быстрому выводу данных, что полезно для приложений, работающих в реальном времени."
   ]
  },
  {
   "cell_type": "markdown",
   "metadata": {},
   "source": [
    "pip install transformers"
   ]
  },
  {
   "cell_type": "code",
   "execution_count": 1,
   "metadata": {},
   "outputs": [
    {
     "name": "stderr",
     "output_type": "stream",
     "text": [
      "c:\\Users\\Ivan\\miniconda3\\envs\\nlp\\Lib\\site-packages\\tqdm\\auto.py:21: TqdmWarning: IProgress not found. Please update jupyter and ipywidgets. See https://ipywidgets.readthedocs.io/en/stable/user_install.html\n",
      "  from .autonotebook import tqdm as notebook_tqdm\n",
      "None of PyTorch, TensorFlow >= 2.0, or Flax have been found. Models won't be available and only tokenizers, configuration and file/data utilities can be used.\n",
      "c:\\Users\\Ivan\\miniconda3\\envs\\nlp\\Lib\\site-packages\\huggingface_hub\\file_download.py:140: UserWarning: `huggingface_hub` cache-system uses symlinks by default to efficiently store duplicated files but your machine does not support them in C:\\Users\\Ivan\\.cache\\huggingface\\hub\\models--bert-base-uncased. Caching files will still work but in a degraded version that might require more space on your disk. This warning can be disabled by setting the `HF_HUB_DISABLE_SYMLINKS_WARNING` environment variable. For more details, see https://huggingface.co/docs/huggingface_hub/how-to-cache#limitations.\n",
      "To support symlinks on Windows, you either need to activate Developer Mode or to run Python as an administrator. In order to activate developer mode, see this article: https://docs.microsoft.com/en-us/windows/apps/get-started/enable-your-device-for-development\n",
      "  warnings.warn(message)\n"
     ]
    },
    {
     "name": "stdout",
     "output_type": "stream",
     "text": [
      "Tokens: ['token', '##ization', 'helps', 'in', 'handling', 'rare', 'words', 'effectively', '.']\n",
      "Token IDs: [19204, 3989, 7126, 1999, 8304, 4678, 2616, 6464, 1012]\n"
     ]
    }
   ],
   "source": [
    "from transformers import BertTokenizer\n",
    "\n",
    "def wordpiece_tokenization(text):\n",
    "    # Initialize the tokenizer with a pre-trained BERT model\n",
    "    tokenizer = BertTokenizer.from_pretrained('bert-base-uncased')\n",
    "\n",
    "    # Tokenize the text\n",
    "    tokens = tokenizer.tokenize(text)\n",
    "\n",
    "    # Convert tokens to their corresponding IDs in the BERT vocabulary\n",
    "    token_ids = tokenizer.convert_tokens_to_ids(tokens)\n",
    "\n",
    "    return tokens, token_ids\n",
    "\n",
    "# Example usage\n",
    "sample_text = \"Tokenization helps in handling rare words effectively.\"\n",
    "tokens, token_ids = wordpiece_tokenization(sample_text)\n",
    "\n",
    "print(\"Tokens:\", tokens)\n",
    "print(\"Token IDs:\", token_ids)\n"
   ]
  },
  {
   "cell_type": "code",
   "execution_count": null,
   "metadata": {},
   "outputs": [],
   "source": []
  }
 ],
 "metadata": {
  "kernelspec": {
   "display_name": "nlp",
   "language": "python",
   "name": "python3"
  },
  "language_info": {
   "codemirror_mode": {
    "name": "ipython",
    "version": 3
   },
   "file_extension": ".py",
   "mimetype": "text/x-python",
   "name": "python",
   "nbconvert_exporter": "python",
   "pygments_lexer": "ipython3",
   "version": "3.11.11"
  }
 },
 "nbformat": 4,
 "nbformat_minor": 2
}
